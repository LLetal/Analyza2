{
 "cells": [
  {
   "cell_type": "markdown",
   "id": "47b1be2f-e7a3-4add-9967-97a4f7bb47bd",
   "metadata": {},
   "source": [
    "# Separováné proměnné\n",
    "\n",
    "- Separace jednotlivých proměnných - každou na jednu stranu\n",
    "- Integrace obou stran, strana s y vyjde v inverzním tvaru, třeba zpětně invertovat. Obecný tvar po zintegrování: $G(x)^{-1} = F(x)+C$\n",
    "- Ověření podmínek spojitosti, nalezení průniků intervalů řešení, nakonec lepení - zhola nemožné\n",
    "- Ukázka řešení na jednoduchém příkladu \n",
    "$$\n",
    "y' = 5xy\n",
    "$$\n",
    "$$\n",
    "\\frac{y'}{y} = 5x\n",
    "$$\n",
    "$$\n",
    "\\int \\frac{dy}{y} = \\int 5x dx\n",
    "$$\n",
    "$$\n",
    "ln(y) = \\frac{5}{2}x^2 + C\n",
    "$$\n",
    "$$\n",
    "\\dots\n",
    "$$"
   ]
  },
  {
   "cell_type": "markdown",
   "id": "8c6dc70b-9730-4455-8f90-06da670b2e4f",
   "metadata": {},
   "source": [
    "# Integrační faktor\n",
    "- Obecný tvar rovnice: $y'(x) + p(x)y = q(x)$.\n",
    "- I) Vyjádříme si nejprve $P(x) = \\int p(x) dx$\n",
    "- II) Spočteme integrál $y_r = \\int q(x)e^{P(x)} dx$.\n",
    "- III) Řešení rovnice má tvar $y = \\frac{1}{e^{P(x)}}y_r + C$\n",
    "- Ukázka řešení na příkladu:\n",
    "$$\n",
    "y'\\cos(x) = \\sin(x)y + \\cos^2(x) \n",
    "$$\n",
    "$$\n",
    "y' - tg(x)y = \\cos(x)\n",
    "$$\n",
    "$$\n",
    "P(x) = -\\int tg(x) dx = ln|cos(x)|\n",
    "$$\n",
    "$$\n",
    "y_r = \\int q(x)e^{P(x)} dx = \\int cos(x)^2 dx = \\int \\frac{cos(2x) + 1}{2}dx = \\frac{x}{2} + frac{sin(2x)}{4} +C\n",
    "$$\n",
    "$$\n",
    "\\dots\n",
    "$$"
   ]
  },
  {
   "cell_type": "markdown",
   "id": "7af1e36e-7fcb-423f-9fc8-709cf9ae6938",
   "metadata": {},
   "source": [
    "# Homogenní rovnice\n",
    "- Obecné: $y'(x) = f(x,y)$, $f(x,y) = f(ax,ay)$\n",
    "- I) Substituce $z(x) = \\frac{y(x)}{x}$\n",
    "- II) $f(x,y) = f(z,1)$\n",
    "- III) $z' =\\frac{y'}{x}-\\frac{y}{x^2}$\n",
    "- IV) $y' = z'x +z = f(1,z)$\n",
    "- V) Separace proměnných $\\frac{dz}{dx} = \\frac{f(1,z)-z}{x}$\n",
    "- Ukázka řešení:\n",
    "$$\n",
    "sadas\n",
    "$$"
   ]
  },
  {
   "cell_type": "markdown",
   "id": "e8dff60d-9d76-4af9-80f9-fb873d1d5c08",
   "metadata": {},
   "source": [
    "# Bernoulliho rovnice\n",
    "- Obecné zadání: $y'(x)+ p(x)y(x) = q(x)y(x)^k$\n",
    "- Postup je tady lepší napsat v rovnicích.\n",
    "- I) $y' p(x)y =q(x)y^k y^k$\n",
    "- II) $y'y^{-k} + p(x)y^{1-k} = q(x)$ $z = y^{1-k}, z'= y' y^{-k}$\n",
    "- III) $z' + (1-k)p(x)z = (1-k)q(x)$\n",
    "- IV) Integrační faktor\n",
    "- Ukázka na konkrétním příkladu\n"
   ]
  },
  {
   "cell_type": "markdown",
   "id": "ed91b591-6506-4091-b24f-98cc5bdff650",
   "metadata": {},
   "source": [
    "# Variace konstant pro rovnici s konstantními koeficienty"
   ]
  }
 ],
 "metadata": {
  "kernelspec": {
   "display_name": "Python 3 (ipykernel)",
   "language": "python",
   "name": "python3"
  },
  "language_info": {
   "codemirror_mode": {
    "name": "ipython",
    "version": 3
   },
   "file_extension": ".py",
   "mimetype": "text/x-python",
   "name": "python",
   "nbconvert_exporter": "python",
   "pygments_lexer": "ipython3",
   "version": "3.11.5"
  }
 },
 "nbformat": 4,
 "nbformat_minor": 5
}
