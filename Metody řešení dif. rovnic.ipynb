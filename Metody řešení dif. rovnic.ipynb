{
 "cells": [
  {
   "cell_type": "markdown",
   "id": "47b1be2f-e7a3-4add-9967-97a4f7bb47bd",
   "metadata": {},
   "source": [
    "# Separováné proměnné\n",
    "\n",
    "- Separace jednotlivých proměnných - každou na jednu stranu\n",
    "- Integrace obou stran, strana s y vyjde v inverzním tvaru, třeba zpětně invertovat. Obecný tvar po zintegrování: $G(x)^{-1} = F(x)+C$\n",
    "- Ověření podmínek spojitosti, nalezení průniků intervalů řešení, nakonec lepení - zhola nemožné\n",
    "- Ukázka řešení na jednoduchém příkladu \n",
    "$$\n",
    "y' = 5xy\n",
    "$$\n",
    "$$\n",
    "\\frac{y'}{y} = 5x\n",
    "$$\n",
    "$$\n",
    "\\int \\frac{dy}{y} = \\int 5x dx\n",
    "$$\n",
    "$$\n",
    "ln(y) = \\frac{5}{2}x^2 + C\n",
    "$$\n",
    "$$\n",
    "\\dots\n",
    "$$"
   ]
  },
  {
   "cell_type": "markdown",
   "id": "8c6dc70b-9730-4455-8f90-06da670b2e4f",
   "metadata": {},
   "source": [
    "# Integrační faktor\n",
    "- Obecný tvar rovnice: $y'(x) + p(x)y = q(x)$.\n",
    "- I) Vyjádříme si nejprve $P(x) = \\int p(x) dx$\n",
    "- II) Spočteme integrál $y_r = \\int q(x)e^{P(x)} dx$.\n",
    "- III) Řešení rovnice má tvar $y = \\frac{1}{e^{P(x)}}y_r + C$\n",
    "- Ukázka řešení na příkladu:\n",
    "$$\n",
    "y'\\cos(x) = \\sin(x)y + \\cos^2(x) \n",
    "$$\n",
    "$$\n",
    "y' - tg(x)y = \\cos(x)\n",
    "$$\n",
    "$$\n",
    "P(x) = -\\int tg(x) dx = ln|cos(x)|\n",
    "$$\n",
    "$$\n",
    "y_r = \\int q(x)e^{P(x)} dx = \\int cos(x)^2 dx = \\int \\frac{cos(2x) + 1}{2}dx = \\frac{x}{2} + \\frac{sin(2x)}{4} +C\n",
    "$$\n",
    "$$\n",
    "\\dots\n",
    "$$"
   ]
  },
  {
   "cell_type": "markdown",
   "id": "7af1e36e-7fcb-423f-9fc8-709cf9ae6938",
   "metadata": {},
   "source": [
    "# Homogenní rovnice\n",
    "- Obecné: $y'(x) = f(x,y)$, $f(x,y) = f(ax,ay)$\n",
    "- I) Substituce $z(x) = \\frac{y(x)}{x}$\n",
    "- II) $f(x,y) = f(z,1)$\n",
    "- III) $z' =\\frac{y'}{x}-\\frac{y}{x^2}$\n",
    "- IV) $y' = z'x +z = f(1,z)$\n",
    "- V) Separace proměnných $\\frac{dz}{dx} = \\frac{f(1,z)-z}{x}$\n",
    "- Ukázka řešení:\n",
    "$$\n",
    "sadas\n",
    "$$"
   ]
  },
  {
   "cell_type": "markdown",
   "id": "e8dff60d-9d76-4af9-80f9-fb873d1d5c08",
   "metadata": {},
   "source": [
    "# Bernoulliho rovnice\n",
    "- Obecné zadání: $y'(x)+ p(x)y(x) = q(x)y(x)^k$\n",
    "- Postup je tady lepší napsat v rovnicích.\n",
    "- I) $y'(x)+ p(x)y =q(x)y^k$\n",
    "- II) $y'y^{-k} + p(x)y^{1-k} = q(x)$ $z = y^{1-k}, z'= y' y^{-k}$\n",
    "- III) $z' + (1-k)p(x)z = (1-k)q(x)$\n",
    "- IV) Integrační faktor\n",
    "- Ukázka na konkrétním příkladu\n"
   ]
  },
  {
   "cell_type": "markdown",
   "id": "ed91b591-6506-4091-b24f-98cc5bdff650",
   "metadata": {},
   "source": [
    "# Speciální pravá strana a variací proměnných\n",
    " a Mějme nějakou rovnici s konstantními členy:\n",
    "$$\n",
    "y'''(x) a_1 + y''(x)a_2 + y'(x)a_3 + y(x) a_3 = f(x)\n",
    "$$\n",
    "Potom řešení pomocí variace konstant hledáme ze soustavy:\n",
    "$$\n",
    "g_1(x)'e^{\\lambda_1} + g_2(x)'e^{\\lambda_2} + g(x)'e^{\\lambda_3} = 0\n",
    "$$\n",
    "$$\n",
    "g_1(x)'e^{\\lambda _1}' + g_2(x)'e^{\\lambda_2}' + g(x)'e^{\\lambda_3}' = f(x)\n",
    "$$\n",
    "pro rovnice vyššího řádu to dělám obdobně, jen přidávám řádky. Výsledek potom nezapomenout zapsat vynásobit původníma blbostma.\n",
    "## Speciální pravá strana\n",
    "Máme-li rovnici se speciální pravou stranou, pak máme zadanou dif. rovnici ve tvaru \n",
    "$$\n",
    "y''(x) a_1 + a_2y'(x) + a_3y(x) = f(x)\n",
    "$$\n",
    "Kde $f(x)$ má tvar:\n",
    "$$\n",
    "f(x) = x^k(e^{\\alfa}(P_1(x)cos(\\beta x)+P_2 sin(\\beta x)))\n",
    "$$\n",
    "$k$ zde představuje násobnost kořene:$x = \\alpha + \\beta i$ coby kořene charakteristického polynomu.\n"
   ]
  },
  {
   "cell_type": "markdown",
   "id": "7d19a212-3cd4-466e-b331-4e9d0947281c",
   "metadata": {},
   "source": [
    "# Eulerova rovnice\n",
    "Mějme rovnici tvaru:\n",
    "$$\n",
    "x^2 y''(x) - xy'(x) + y(x) = f(x)\n",
    "$$\n",
    "Potom zavedením substituce $z(ln(x)) = y(x), x = e^t$. Potom získáváme rovnici tvaru:\n",
    "$$\n",
    "z''(t) -2z'(t) + z(t) = f(t)\n",
    "$$\n",
    "kde v $f(t)$ vyjádříme všechna x pomocí zavedené t. Dále pokračujeme jako při řešení rce s konstantními koeficienty.\n"
   ]
  },
  {
   "cell_type": "code",
   "execution_count": null,
   "id": "b7d112ef-94bb-4079-8d9a-89ca366a0cd8",
   "metadata": {},
   "outputs": [],
   "source": []
  }
 ],
 "metadata": {
  "kernelspec": {
   "display_name": "Python 3 (ipykernel)",
   "language": "python",
   "name": "python3"
  },
  "language_info": {
   "codemirror_mode": {
    "name": "ipython",
    "version": 3
   },
   "file_extension": ".py",
   "mimetype": "text/x-python",
   "name": "python",
   "nbconvert_exporter": "python",
   "pygments_lexer": "ipython3",
   "version": "3.11.4"
  }
 },
 "nbformat": 4,
 "nbformat_minor": 5
}
