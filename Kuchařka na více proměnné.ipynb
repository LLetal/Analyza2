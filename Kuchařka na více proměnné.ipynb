{
 "cells": [
  {
   "cell_type": "markdown",
   "id": "4e5d1bae-dcbd-43df-8048-5e15497e2878",
   "metadata": {},
   "source": [
    "# Hledání totálního diferenciálu\n",
    "## Definice\n",
    "Mějme funkci obecně funkci $f:\\mathbb{R}^N \\to \\mathbb{R}$ definovanou na nějakém bodě $a$. Potom tato fce má v bodě $a$ TD, pakliže pro nějaké $h >0$ existuje nějaká funkce $L$ splňující:\n",
    "$$\n",
    "\\lim_{||h|| \\to 0} \\frac{f(a+h)-f(a)-Lh}{||h||}\n",
    "$$\n",
    "$L$ nazýváme hledaným diferenciálem fce. \n",
    "## Hledání směrové derivace \n",
    "Mějme obecně nějakou fci $f:\\mathbb{R}^N \\to \\mathbb{R}$ definovanou na nějakém okolí $(a,a+hv), \\text{kde} \\, a \\, \\in \\mathbb{R}^n \\,h \\in (-\\delta,\\delta), \\delta >0$ a $v$ je směr, v němž hledáme derivaci. Za těchto předpokladů rozumíme derivaci ve směru jako:\n",
    "$$\n",
    "\\lim_{h \\to 0} \\frac{f(a+h*v) - f(a)}{h}\n",
    "$$\n",
    "## Parciální derivace\n",
    "Mějme obecně nějakou fci $f:\\mathbb{R}^n \\to \\mathbb{R}$, nechť je tato funkce obecně definována na nějaké množinš $\\{a_1 \\} \\times \\{a_2\\} \\times \\dots \\times \\{a_i + h\\} \\times \\dots \\times \\{a_n\\}$ potom hledáním parciální derivace podle $x_i$ rozumíme:\n",
    "$$\n",
    "\\lim_{h \\to 0} \\frac{f(a_1,\\dots,a_i +h,\\dots, a_n) - f(a)}{h}\n",
    "$$\n",
    "## Samotný postup úloh\n",
    "\n",
    "1) Často se ptají na spojitost, což je zkrátka ověřování toho, zda se limita k bodu, v němž nás zajímá spojitost, a hodnota v něm rovnají\n",
    "2) Dále je častá otázka na totální diferenciál v bodech, kde není definována první derivace -> tehdy spočítáme první derivace v tázaných bodech z definic výše a dosazujeme je poté do definice TD.\n",
    "3) Při výpočtu TD mimo sus body zkrátka postupujeme dle vzorce pro výpočet derivací a vycházíme z toho, že jsou-li derivace na nějakém okolí spojité, potom je TD roven gradientu.\n",
    "4) Ptají-li se v zadání na spojitost TD, potom zkrátka v nějakém původně sus bodě přecházíme provádíme opět pátrání, zda se limita rovná funkční hodnotě v bodě (třebas manuálně dopočteném z definice.)\n",
    "5) Při výpočtu derivace ve směru využíváme buďto definice derivace ve směru, což je dle mého spolehlivé, anebo využíváme $\\frac{\\partial f}{\\partial \\vec{v}} = df(a)(v)$ (což v praxi znamená skalárně vynásobit hodnotu TD s oním vektorem směrovým)"
   ]
  },
  {
   "cell_type": "markdown",
   "id": "c4d6323e-c1e4-4441-b287-d4a441f1b105",
   "metadata": {},
   "source": [
    "# Vázané extrémy\n",
    "\n",
    "1) Ze zadání dostáváme povětšinou nějakou funkci $F(x,y,z)$ s přidruženou podmínkou $g(x,y,z)=0$.\n",
    "2) Nejprve extrémy uvnitř zadané množiny (je-li dána nějakou neostrou nerovností, jinak tento krok přeskakujeme). TO děláme tak, že hledáme, kde je gradient funkce $f$ roven nule. Když takové body nalezneme, tak ověříme, že splňují podmínku a vyčíslíme jejich hodnotu.\n",
    "3) Posléze přecházíme do režimu hraničních oblastí, na nichž používáme tzv. Lagrandže funkcí $L = f(x,y,z)-\\lambda(g(x,y,z))$. \n",
    "4) Nejprve ověříme, kde je gradient funkce $g$ roven nule. V těchto bodech nelze lagrandže použít.\n",
    "5) Konečně přejdeme na vytvoření soustavy rovnic:\n",
    "$$\n",
    "\\frac{\\partial L}{\\partial \\lambda} = 0\n",
    "$$\n",
    "$$\n",
    "\\frac{\\partial L}{\\partial x} = 0\n",
    "$$\n",
    "$$\n",
    "\\frac{\\partial L}{\\partial y} = 0\n",
    "$$\n",
    "$$\n",
    "\\frac{\\partial L}{\\partial z} = 0\n",
    "$$\n",
    "7) Všechny trojice $(x,y,z)$ tyto podmínky splňující jsou posléze podezřelými body z extrému. DOsazením do původní rovnice zjišťujeme, jak jsme na tom.\n",
    "6) Při hledání nejmenší vzdálenosti od nějaké roviny/přímky zkrátka rozumíme hledání minima rovnice $f(x,y,z) = a(x-p) +b(y-q) + c(z-f) $ s vazbou danou rovnicí té roviny (pro nás $g(x,y,z) = a(x) + b(y) + c(z)$) "
   ]
  },
  {
   "cell_type": "markdown",
   "id": "b1ab4d79-a85f-4d84-a258-7000e9ab9630",
   "metadata": {},
   "source": [
    "# Implicitní funkce\n",
    "1) ze zadání dostáváme typicky nějakou fci více proměnných $f(x,y,z) = 0$ pro nějaký bod $a \\in \\mathbb{R}^3$. Dále se po člověku typicky chce spočíst derivace funkce vybrané proměnné jako funkce zbylých proměnných (např $\\frac{\\partial z(x,y)}{\\partial x}$)\n",
    "2) Ověříme, že v bodě, v němž nás derivace zajímá není derivace $f(x,y,z)$ podle zajímavé proměnné není po dosazení rovna nule (podmínka na monotonii v okolí). Občas si musíme dopočíst hodnotu bodu jedné z proměnných podle.\n",
    "3) Konečně spočítáme si derivaci podle proměnné ze zadání. Zajímá-li nás např derivace implicitní fce $z$ podlě $x$, potom užijeme vztahu:\n",
    "$$\n",
    "\\frac{\\partial z(x,y)}{\\partial x} = - \\frac{\\frac{\\partial f(x,y,z)}{\\partial x}}{\\frac{\\partial f(x,y,z)}{\\partial z} }\n",
    "$$\n",
    "4) Stejný vzorec používáme i pro zbylé derivace. jen vyměňujeme proměnnou $x$. Posléze dosazujeme hodnoty bodu, v němž je implicitní fce definována.\n",
    "5) Při výpočtu vyšších derivací už jen derivujeme získané $\\frac{\\partial z}{\\partial x}$ dle proměnné s tím, že pakliže narazíme na nějaké nějaké $z(x)$ derivujeme jej vždy tak, že nám vypadne $\\frac{\\partial z}{\\partial x}$, za které dosadíme získanou hodnoty z předchozího kroku.\n"
   ]
  },
  {
   "cell_type": "markdown",
   "id": "55231465-791a-4cdf-9260-b80cfcfdfe17",
   "metadata": {
    "tags": []
   },
   "source": [
    "# Lokální extrémy\n",
    "1) Dostanu zadanou $f(x,y,z)$, vyhledám odbornou pomoc -> gradient $f$\n",
    "2) Hledám takové $x,y,z$ aby byla splněná rovnice $\\nabla f =0$ (obecně systém několika proměnných)\n",
    "3) Stvořím tzv. Hessovu matici $H$ - matice druhých derivací. Dosadím do ní příslušné podezřelé body, přičemž prověřuji dle následující tabulky, spočítám signatury a při rozhodování postupuji dle následující tabulky. $q,p \\in \\mathbb{R} \\backslash \\{0\\}$\n",
    "\\\n",
    "\n",
    "|signatura|význam|\n",
    "|---|---|\n",
    "|sgn(A)=$(q,p,0)$| indefinitní -> zhola nic|\n",
    "|sgn(A)= $(p,0,0)$| pozitivně definitní -> lokální minimum|\n",
    "|sgn(A) = $(0,p,0)$ | negativně definitní -> lokální ostré maximum |\n",
    "|sgn(A) = $(p,0,q)$|pozitivně semidefinitní -> viz krok 4|\n",
    "|sgn(A) = $(0,p,q)$|negativně semidefinitní -> viz krok 4|\n",
    "\n",
    "\n",
    "4) Problém nastává u semidefinitních věcí. Pro ty je třeba prozkoumat blízká okolí podezřelých bodů a ověřit, zda jsou zde funkce skutečně správně monotonní. Příklad průzkumu okolí:\n",
    "$$\n",
    "\n",
    "$$"
   ]
  },
  {
   "cell_type": "markdown",
   "id": "29b24200-39f1-4063-8179-d456717f2869",
   "metadata": {},
   "source": [
    "# Užitečné geometrické identity k integrálům\n",
    "$$\n",
    "\\sin(x+y) = \\sin(x)\\cos(y) + \\sin(y)\\cos(y)\n",
    "$$\n",
    "$$\n",
    "\\cos(x+y) = \\cos(x)^2 - \\sin(x)^2\n",
    "$$\n",
    "$$\n",
    "\\cos^2(x) = \\frac{1+\\cos(2x)}{2}\n",
    "$$\n",
    "$$\n",
    "\\sin^2(x) = \\frac{1-\\cos(x2)}{2}\n",
    "$$\n"
   ]
  },
  {
   "cell_type": "markdown",
   "id": "5082846d-4bdc-44ab-afd8-34a383da0ec9",
   "metadata": {},
   "source": [
    "# Kuchařka pro součty řad\n",
    "## Nezáporné členy\n",
    "1) vidím faktoriál -> d'alambert nebo podílové\n",
    "2) vidím mocninu -> odmocninové cauchyho\n",
    "3) integrální kritérium -> ??? \n",
    "4) Něco s nejvyššími mocninami -> limitní srovnávací kritérium\n",
    "## Mocninné řady\n",
    "Mějme $z_0 \\in \\mathbb{C}$, $z \\in \\mathbb{C}$, $\\{a_k\\}$, potom:\n",
    "$$\n",
    "\\sum_{k = 1}^\\infty a_k (z-z_0)^k\n",
    "$$\n",
    "nazveme mocninnou řadou. \n",
    "1) Spočítám $R$ konvergence podle $R = \\frac{1}{\\lim \\sup_{x \\to \\infty} \\sqrt{|a_k|}[k]}$, potažmo $R = \\lim_{k \\to \\infty} \\frac{a_{k+1}}{a_k}$\n",
    "2) $|z| < R$ konverguje absolutně, $|z|>R$ diverguje\n",
    "3) $|z| = R ?$ -> $z = Re^{i\\phi}$, $e^{i n\\phi}$ můžeme pro $[0,\\pi2)$ považovat za OČS. Současně však musíme dáva pozor, jestli někde nehaprují $-1$\n",
    "4) Spočítám zda konverguje takto získaná řada\n",
    "5) Pro $\\phi = 2\\pi$ dosazuji zkrátka místo $e^{i \\phi}$ jedničku.\n"
   ]
  },
  {
   "cell_type": "markdown",
   "id": "8189658d-cd16-479a-b9c8-7c743ede51bc",
   "metadata": {},
   "source": [
    "# Důležité tipy a triky pro řady\n",
    "- cos(xn) a sin(xn) mají OČS\n",
    "- $\\sum_{k=1}^{\\infty} \\frac{1}{k^p}$ diverguje pro $p \\leq 1$, konverguje $p >1$.\n",
    "- $ln(n)<n<n^p<K^n<n!<n^n$, při převrácení to jde taky využřít\n",
    "- $n! = \\sqrt{2\\pi}\\sqrt{n}\\frac{n}{2}^n$\n",
    "- $\\sin(nx) < 1$\n",
    "- $\\sin(|\\frac{x}{3^n}|) = \\sin(|x|)\\frac{1}{3^n}$\n",
    "- $(1+\\frac{1}{n})^n = e$\n",
    "- $\\cos(\\frac{1}{n})\\geq \\frac{1}{2}$\n",
    "- $e^x = \\sum_{k = 0}^\\infty \\frac{x^k}{k\"}$\n",
    "- $ln(1+x) = \\sum_{k = 0}^{\\infty}\\frac{x^n}{n}$\n",
    "- $\\sum_{n=0}^\\infty x^n = \\frac{1}{1-x}$\n",
    "- $\\cos(x) = (-1)^k \\frac{x^{2k}}{2k!}$\n",
    "- $\\sin(x) = (-1)^k \\frac{x^{2k}}{(2k+1)!}$\n"
   ]
  },
  {
   "cell_type": "markdown",
   "id": "69016dc5-24b5-4f92-b904-ee270ae80a67",
   "metadata": {},
   "source": [
    "# Kuchařka pro integrály určité\n",
    "POužívám stejné triky jako pro konvergence řad. Nejdůležitější je limitní srovnávací kritérium "
   ]
  }
 ],
 "metadata": {
  "kernelspec": {
   "display_name": "Python 3 (ipykernel)",
   "language": "python",
   "name": "python3"
  },
  "language_info": {
   "codemirror_mode": {
    "name": "ipython",
    "version": 3
   },
   "file_extension": ".py",
   "mimetype": "text/x-python",
   "name": "python",
   "nbconvert_exporter": "python",
   "pygments_lexer": "ipython3",
   "version": "3.11.4"
  }
 },
 "nbformat": 4,
 "nbformat_minor": 5
}
