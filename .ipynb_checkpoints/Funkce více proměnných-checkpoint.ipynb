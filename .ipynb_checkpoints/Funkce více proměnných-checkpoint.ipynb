{
 "cells": [
  {
   "cell_type": "markdown",
   "id": "4468b098-804c-4440-b7af-4422b7d3b1b1",
   "metadata": {},
   "source": [
    "# Definice"
   ]
  },
  {
   "cell_type": "markdown",
   "id": "3dc18f34-9dba-4281-99d0-a99135d94a1b",
   "metadata": {},
   "source": [
    "# Limita funkce a spojitost v metrickém prostoru (Definice 13) (11.9.1)(11.9.3)\n",
    "I) Řekneme, že $f$ má v bodě $a\\in P$ limitu $A \\in Q$, pokud:\n",
    "$$\n",
    "a \\in D_f\n",
    "$$\n",
    "$$\n",
    "\\forall \\epsilon >0 \\, \\exists \\delta >0 \\, \\forall x \\in D_f : \\, 0<\\rho(x,a)<\\delta => \\sigma(f(x),A)<\\epsilon\n",
    "$$\n",
    "píšeme $\\lim_{x\\to a}f(x) = A$\n",
    "\\\\\n",
    "\n",
    "II) Řekneme, že $f$ je spojitá v $a \\in D_f$, jestliže:\n",
    "$$\n",
    "\\lim_{x \\to a}f(x) = f(a)\n",
    "$$\n",
    "\\\\\n",
    "\n",
    "III) $f$ je spojitá na $M \\subset D_f$, když je spojitá v $\\forall x \\in M$.\n",
    "# Definice z učebnice:\n",
    "Nechť $(P_1,\\rho_1)$ a $(P_2,\\rho_2)$ jsou metrické prostory, $\\phi: P_1 \\to P_2$, $x_0 \\in P_1$ je hromadným bodem $D_\\phi$ a $y_0 \\in P_2$. Řekneme, že zobrazení $\\phi$ má v bodě $x_0$ limitu $y_0$, pokud:\n",
    "$$\n",
    "\\forall \\epsilon >0 \\, \\exists \\delta >0 \\, \\, x \\in P_\\delta (x_0)\\cap D_\\phi => \\phi(x)\\in U_\\epsilon\n",
    "$$\n",
    "Tehdy píšeme,že $\\lim_{x \\to x_0} \\phi(x) = y_0$, nebo $\\phi(x)\\to y_0$ pro $x \\to x_0$"
   ]
  },
  {
   "cell_type": "markdown",
   "id": "ac181fd4-d7e0-47b8-8209-683d4bf31601",
   "metadata": {},
   "source": [
    "# Parciální derivace (Def 1)(12.1.1)\n",
    "Nechť $a \\in \\mathbb{R}^N, i \\in${$1,\\dots,N$} a $f: \\mathbb{R}^N \\to \\mathbb{R}$ je definována na množine {$a_1$}$\\times \\dots \\times${$a_{i-1}$}$\\times(a_i - \\delta,a_i +\\delta) \\times${$a_{i+1}$}$\\times \\dots \\times${$a_N$} pro jisté $\\delta >0$. Jestliže existuje vlastní limita:\n",
    "$$\n",
    "\\lim_{h \\to 0}\\frac{(a_1,\\dots,a_{i-1},a_i + h, a_{i+1},\\dots,a_N) -f(a)}{h}\n",
    "$$\n",
    "pak se nazývá parciální derivace funkce $f$ podlé i-té proměnné v bodě $a$ značí se $\\frac{\\partial f}{\\partial x_i}(a)$ nebo $f_{x_i}(a)$. Druhá parciální derivace podle proměnných $x_i$ a $x_j$ je definována vztahem $\\frac{\\partial f}{\\partial x_j}(\\frac{\\partial f}{\\partial x_i})(a)$. Pokud $i=j$, první verze zápisu zkracuje na $\\frac{\\partial^2 f}{\\partial x^2_i}(a)$. Pokud $i \\neq j$, hovoříme o smíšené parciální derivaci. Analogicky pro vyšší parciální derivace.\n"
   ]
  },
  {
   "cell_type": "markdown",
   "id": "b45e92a4-c4a9-42ed-b59e-a8fda52f54d3",
   "metadata": {},
   "source": [
    "# Derivace ve směru (Def 1)(12.1.5)\n",
    "Nechť vektor $\\vec{v} \\in \\mathbb{N}$ bod $a \\in \\mathbb{R}^N$ a funkce $f: \\mathbb{R}^N \\to \\mathbb{R}$ je definovaná na množině {$a + hv: h \\in (-\\delta,\\delta)$} pro jisté $\\delta >0$. Pak definujeme derivaci funkce $f$ ve směru $\\vec{v}$ v bodě $a$ předpisem\n",
    "$$\n",
    "\\frac{\\partial f}{\\partial \\vec{v}}(a) = \\lim_{h \\to 0}\\frac{f(a + h\\vec{v}) - f(a)}{h}\n",
    "$$\n",
    "pokud limita na pravé straně existuje a je vlastní."
   ]
  },
  {
   "cell_type": "markdown",
   "id": "0b1a11ca-53c4-416b-aa1d-a99b5f14431c",
   "metadata": {},
   "source": [
    "# Totální diferenciál (Def 2)(12.1.10)\n",
    "Nechť $f: \\mathbb{R}^N \\to \\mathbb{R}$ je definována na nějakém okolí bodu $a \\in \\mathbb{R}^N$. Řekneme, že funkce $f$ má v bodě $a$ totální diferenciál, jestliže existuje taková lineární funkce $L: \\mathbb{R^N} \\to \\mathbb{R}$,že \n",
    "$$\n",
    "\\lim_{h \\to 0} \\frac{f(x + h)-f(x)-Lh}{||h||} = 0\n",
    "$$\n",
    "Uvedenou lineární funkci $L$ nazýváme totálním diferenciálem funkce $f$ v bodě $a$ a značíme ji $df(a)$.\n",
    "Pozn.: $\\vec{x} \\in \\mathbb{R}^N$.\n",
    "## Ekvivalentní deficinice\n",
    "TD:\n",
    "$$\n",
    "\\lim_{h \\to 0}\\frac{||f(a+h)-f(a)-Lh||}{||h||_2} =0\n",
    "$$\n"
   ]
  },
  {
   "cell_type": "markdown",
   "id": "ffcc539d-61f2-4cea-be8b-b159f66c87bb",
   "metadata": {},
   "source": [
    "# Definice gradientu, divergence, rotace a Lapalaceova operátoru (12.2.2)\n",
    "- I) $f \\mathbb{R}^n \\to \\mathbb{R}$. $\\nabla f(a) = (\\frac{\\partial}{\\partial x_n}f(a)\\dots,\\frac{\\partial}{\\partial x_n}f(a))$  Gradient\n",
    "- II) $f: \\mathbb{R}^n \\to \\mathbb{R^n}$potom divergence je $\\nabla \\cdot f(a)$ = $\\frac{\\partial}{\\partial x_1}f(a) + \\cdot + \\frac{\\partial}{\\partial x_n}f(a)$\n",
    "- III) $f: \\mathbb{R}^2 \\to \\mathbb{R}^2$. Potom rotace je:\n",
    "$$\n",
    "\\nabla \\times f(a) = \\frac{\\partial}{\\partial x_1}f_2(a) - \\frac{\\partial}{\\partial x_2}f_1(a)\n",
    "$$\n",
    "- IV) $f:\\mathbb{R}^3 \\to \\mathbb{R}^3$ potom rotace = pseudodeterminant.\n",
    "- V) $f: \\mathbb{R}^n \\to \\mathbb{R}$ Potom laplace je:\n",
    "$$\n",
    "\\Delta f(a) = \n",
    "$$\n",
    "## TODO"
   ]
  },
  {
   "cell_type": "markdown",
   "id": "ef89cde5-5659-4d00-9cee-6430c48745c6",
   "metadata": {},
   "source": [
    "# Jacobiho matice\n",
    "$f: \\mathbb{R}^n\\to \\mathbb{R}^m$ má $a \\in \\mathbb{R}^n$ totální diferenciál. Pak pro lineární zobrazení $L: \\mathbb{R}^n \\to \\mathbb{R}^m$, tak, že:\n",
    "$$\n",
    "\\lim_{h \\to 0}\\frac{||f(a+h)-f(a)-Lh||}{||h||_2} =0\n",
    "$$\n",
    "Potom $L(h) = Ah$, kde $A$ je matice zobrazení $L$, $A \\in \\mathbb{R}^{n\\times n}.$\n",
    "$$\n",
    "L(h) = Ah = Df(a)(h) = Jf(a)h = \\begin{matrix}\\partial_1 f_1(a)  \\end{matrix}\n",
    "$$\n",
    "## TODO MATICE"
   ]
  },
  {
   "cell_type": "markdown",
   "id": "d51662db-4908-49f6-bd5b-19a320a03604",
   "metadata": {},
   "source": []
  },
  {
   "cell_type": "markdown",
   "id": "958e8f37-3939-45a5-b628-87ee6c8b42f4",
   "metadata": {},
   "source": []
  },
  {
   "cell_type": "markdown",
   "id": "762f13c7-b728-4186-a300-73d885a1915d",
   "metadata": {},
   "source": [
    "# Věty"
   ]
  },
  {
   "cell_type": "markdown",
   "id": "a3808773-e8d4-4bd7-96dc-045204b0483b",
   "metadata": {},
   "source": [
    "# O vlastnostech plynoucích z existence totálního diferenciálu (Věta )(12.1.12)\n",
    "Nechť $f: \\mathbb{R}^N \\to \\mathbb{R}$ má totální diferenciál v bodě $a \\in \\mathbb{R}^N$. Pak:\n",
    "- I) v bodě $a$ existují všechny parciální derivace a platí $df(a) = \\nabla f(a)$(přesněji $df(a)(h) = \\nabla f(a) \\cdot h$ pro všechna $h \\in \\mathbb{R}^N$)\n",
    "- II) existují derivace ve všech směrech a platí pro ně $\\frac{\\partial f}{\\partial v}=\\nabla f(a) \\cdot v$\n",
    "- III) funkce $f$ je spojitá v bodě $a$\n",
    "## Důkaz\n",
    "Části (i) a (ii). Zafixujme vektor $v \\in \\mathbb{R}^N$. Pak z definice totálního diferenciálu a jeho linearity máme:\n",
    "$$\n",
    "\\frac{\\partial f}{\\partial v}(a) = \\lim_{h \\to 0}\\frac{f(a+hv)-f(a)}{h} = \\lim_{h \\to 0} \\frac{f(a+hv)-f(a)-df(a)(hv)}{||hv||}\\frac{||hv||}{h} + \\frac{df(a)(hv)}{h} = 0 + df(a)(v)\n",
    "$$\n",
    "Proto existuje $\\frac{\\partial f}{\\partial v}(a)$. Volba $v = e_i$ dává předchozímu výpočtu $\\frac{\\partial f}{\\partial x_i}(a) = df(a)(e_i)$ a z linearity $df(a)$ pak dostáváme:\n",
    "$$\n",
    "\\frac{\\partial f}{\\partial v}(a) = df(a)(v) = df(a)(\\sum_{i=1}^N v_i e_i) = \\sum_{i=1}^N v_i df(a)(e_i) = \\sum_{i=1}^N v_i \\frac{\\partial f}{\\partial x_i}(a) = \\nabla f(a)\\cdot v\n",
    "$$\n",
    "Třetí část plyne z :\n",
    "$$\n",
    "\\lim_{h \\to 0} (f(a+h)-f(a)) = \\lim_{h \\to 0}(\\frac{f(a+h)-f(a)-df(a)(h)}{||h||}||h|| + df(a)(h)) = 0+0\n",
    "$$\n",
    "kde využíváme odhah založený na Cacuhy-Schwarzově nerovnosti:\n",
    "$$\n",
    "|df(a)(h)| = |\\nabla f(a) \\cdot h|\\leq ||\\nabla f(a)||||h|| = c||h||\n",
    "$$\n"
   ]
  },
  {
   "cell_type": "markdown",
   "id": "9d7b5b9d-fb55-4dba-b98e-5339707c3686",
   "metadata": {},
   "source": [
    "# Cauchy-Schwarzova nerovnost (11.1.12)\n",
    "Nechť $P$ je prosto se skalárním součinem, pak pro všechna $x,y \\in P$ platí:\n",
    "$$\n",
    "|(x,y)|\\leq \\sqrt{x,x}\\sqrt{y,y}\n",
    "$$\n",
    "## Důkaz\n",
    "Pokud y=0 tvrzení určitě platí lol. Nechť dalším $y\\neq y$(tedy $(y,y)>0$). Pro všechna $\\lambda \\in \\mathbb{C}/\\mathbb{R}$ máme:\n",
    "$$\n",
    "0 \\leq (x-y\\lambda,x-\\lambda y) = (x,x)- \\lambda \\overline{(x,y)} - \\overline{\\lambda}(x,y)  - \\overline{\\lambda}\\lambda(y,y)\n",
    "$$\n",
    "Speciálně volba $\\lambda \\frac{(x,y)}{(y,y)}$ dává:\n",
    "$$\n",
    "0 \\leq (x,y) - \\frac{(x,y)\\overline{(x,y)}}{(y,y)} \\frac{\\overline{(x,y)}(x,y)}{(y,y)} + \\frac{(x,y)\\overline{(x,y)}}{(y,y)} = (x,x) - \\frac{(x,y)\\overline{(x,y)}}{(y,y)} = (x,y) - \\frac{|(x,y)|^2}{(y,y)} \n",
    "$$\n",
    "odkud plyne dokazovaná nerovnost. $\\square$"
   ]
  },
  {
   "cell_type": "markdown",
   "id": "0860ed95-3de8-4186-b396-79707f05fdad",
   "metadata": {},
   "source": [
    "# O postačující podmínce pro existenci totálního diferenciálu (Věta )(12.1.14)\n",
    "Nechť $f:\\mathbb{R}^N \\to \\mathbb{R}$ a $a \\in \\mathbb{R}^N$.\n",
    "- I) Má-li $f$ na jistém okolí bodu $a$ omezené parciální derivace a je v  něm spojitá\n",
    "- II) Má-li $f$ na jistém okolí bodu $a$ parciální derivace a ty jsou spojité v bodě $a$, pak v něm má totální diferenciál\n",
    "## Důkaz\n"
   ]
  },
  {
   "cell_type": "markdown",
   "id": "4aca2919-94aa-42ea-97b5-247af526c2ca",
   "metadata": {},
   "source": [
    "# Aritmetika totálního diferenciálu (Věta 5)(12.1.16)\n",
    "Nechť $f,g : \\mathbb{R}^N \\to \\mathbb{R}$,$a \\in \\mathbb{R}^N$ a existují totální diferenciály $df(a)$ a $dg(a)$. Pak\n",
    "- I) $d(f+g)(a)=df(a)+dg(a)$\n",
    "- II) $d(fg)(a) = g(a)df(a) + f(a)dg(a)$\n",
    "- III) Pokud navíc $g(a)\\neq 0$, pak $d\\frac{f}{g}(a) = \\frac{g(a)df(a)-f(a)dg(a)}{g^2(a)}$\n",
    "## Důkaz\n",
    "- I) $f(a+h) = f(a) + df(a)(h) + o(||h||_2)$, $g(a+h)=g(a)+Dg(a)(h)+o)+(||h||_2)$, jejich součet:\n",
    "$$\n",
    "(f+g)(a+h) = (f+g)(a) + D(f+g)(a)(h) + o(||h||_2)\n",
    "$$\n",
    "Odsud vidím, že když to sečtu, tak to sedí, no. Ez\n",
    "- II) $f(fg)(a+h) = fg(a)+Dfg(a)(h)+o(||h||_2)$, $f(a+h) = f(a) + df(a)(h) + o(||h||_2)$, $g(a+h)=g(a)+Dg(a)(h)+o)+(||h||_2)$.\n",
    "$$\n",
    "f(a+h)g(a+h) = f(a)g(a) +f(a)Dg(a)(h)+g(a)Df(a)(h) + Df(a)(h)Dg(a)(h) + o(||h||_2) + o(||h||_2)\n",
    "$$\n",
    "Dvojitý totální diferenciál je znovu velké O.\n",
    "## III) DODĚLAT"
   ]
  },
  {
   "cell_type": "markdown",
   "id": "57572836-9eaa-42c5-9315-ba6b75d9dad7",
   "metadata": {},
   "source": [
    "# O totálním diferenciálu složeného zobrazení (Věta 7)()\n",
    "Mějme $f: \\Omega \\to \\mathbb{R}^m$, $U \\in \\mathbb{k}$, $\\phi: U \\to \\Omega$ a $\\phi$ má totální diferenciál v $a \\in U$, $f$ má TD v $b = \\phi(a)$. Pak $f \\circ \\phi$ má TD v $a$ a platí:\n",
    "$$\n",
    "D(f \\circ \\phi) (a) = D(f(a))D\\pi(a) = Df(b)D\\phi(a)\n",
    "$$\n",
    "## Důkaz\n",
    "56 vět,35 definic\n",
    "$$\n",
    "\\phi(a+h) = \\phi(a) + D\\phi (a)(h) + O(||h||_2) \n",
    "$$\n",
    "$$\n",
    "f(b + \\tilda{h}) = f(b) + Df(b)(\\tilda{h}) + O(||\\tilda{h}||_2)\n",
    "$$\n",
    "$$\n",
    "f(\\phi(a+h)) = f(\\phi(a) + D\\phi(a)(h) + O(||h||_2)) = f(\\phi(a)) + D(f)(h)(D\\phi(a)(h)+O(||h||_2)) = f(\\phi(a)) + Df(b)(D\\phi(a)(h) + O(||h||_2) + O(||\\tilda{h}||_2)) = f(\\phi(a)) + Df(b)D\\phi(a)(h) + Df(b)O(||h||_2) + O(||\\tilda{h}||_2)\n",
    "$$\n",
    "$$\n",
    "Ah = \n",
    "$$\n",
    "# Znění definice ze skript\n",
    "Nechť $\\vec{f}:\\mathbb{R}^N \\to \\mathbb{R}^m$ má ZD v bodě $a \\in \\mathbb{R}^N$ a $\\vec{g}: \\mathbb{R}^m \\to \\mathbb{R}^k$ má totální diferenciál v bodě $\\vec{f}(a)$. Pak funkce $\\vec{g}\\circ \\vec{f}$ má totální diferenciál v bodě $a$ a platí pro něj:\n",
    "$$\n",
    "d(\\vec{g}\\circ \\vec{f}) = d\\vec{g}(\\vec{f}(a))\\circ d\\vec{f}\n",
    "$$"
   ]
  },
  {
   "cell_type": "markdown",
   "id": "98e787c9-5549-4d74-baca-8dfa103663fe",
   "metadata": {},
   "source": [
    "# Řetízkové pravidlo (Věta 8)(12.1.18)\n",
    "Nechť $\\vec{f}:\\mathbb{R}^N \\to \\mathbb{R}^m$ má totální diferenciál v bodě $a \\in \\mathbb{R}^N$ a $g: \\mathbb{R}^m \\to \\mathbb{R}$ má totální diferenicál v bodě $\\vec{f}(a)$. Pak pro každé $i \\in \\{1,\\dots,N\\}$ platí:\n",
    "$$\n",
    "\\forall i = 1,\\dots,k, \\, \\frac{\\partial}{\\partial x_i}(g \\circ \\vec{f})(a) = \\sum_{j=1}^m \\frac{\\partial g}{\\partial y_j} (\\vec{f}(a) \\frac{\\partial f_j}{\\partial x_i})(a.)\n",
    "$$\n",
    "## Důkaz\n",
    "Z věty 7\n"
   ]
  },
  {
   "cell_type": "markdown",
   "id": "78f5da26-c1d8-4a77-a994-01ac4f1e6322",
   "metadata": {},
   "source": [
    "# Záměnnost parciálních derivací (12.2.2)\n",
    "Nechť $f: \\Omega \\to \\mathbb{R}$ má na okolí $U$ bodu $a$ parciální derivace 2-řádu. $\\frac{\\partial}{\\partial x_j}(\\frac{\\partial}{\\partial x_i})(a)$ a $\\frac{\\partial}{\\partial x_i}(\\frac{\\partial}{\\partial x_j})(a)$ a obě jsou spojité. Pak $\\frac{\\partial^2}{\\partial x_j x_i}(a) = \\frac{\\partial^2}{\\partial x_i x_j}(a) $.\n",
    "\n",
    "## Důkaz ze skript\n",
    "Bez újmy na obecnosti si položme důkaz do počátku. Současně určitě existuje nějaké nějaké $\\delta >0$ takové, že $(-\\delta,\\delta)\\times(-\\delta,\\delta)\\subset \\Omega$. Pro nějaké $h,k\\in (0,\\delta)$ definujme funkce:\n",
    "$$\n",
    "Q(h,k) = \\frac{1}{hk}(f(h,k)-f(0,k)-f(h,0)+f(0,0))\n",
    "$$\n",
    "$$\n",
    "\\phi_k  = \\frac{f(x,k)-f(x,0)}{k},\n",
    "$$\n",
    "$$\n",
    "\\psi_h = \\frac{f(h,x)-f(0,x)}{h},\n",
    "$$\n",
    "kde $x$ představují nějaké libovolné body.\n",
    "Fixneme si nyní $h,k \\in (0,\\delta)$. Poto mdle Lagrangeovy věty o střední hodnotě jistě existuje nějaké $\\xi_1 \\in (0,h) \\, , \\xi_2 \\in (0,k)$ taková, že s jistotou platí:\n",
    "$$\n",
    "Q(h,k) = \\frac{1}{h}(\\frac{f(h,k)-f(h,0)}{k} - \\frac{f(0,k)-f(0,0)}{k}) = \\frac{1}{h}(\\phi_k(h) - \\phi(0))= \\phi_k(h)' = \\frac{1}{k}(\\frac{\\partial f }{\\partial x}(\\xi_1,k)-\\frac{\\partial f}{\\partial x}(\\xi_1,0))= \\frac{\\partial^2}{\\partial y \\partial x}(\\xi_1,\\xi_2)\n",
    "$$\n",
    "Podobně potom při druhé úpravě, vytknutí $\\frac{1}{k}$ a užití $\\xi_3 a \\xi_4$:\n",
    "$$\n",
    "Q(h,k) = \\frac{1}{k}(\\frac{f(h,k)-f(0,k)}{h} - \\frac{f(h,0)-f(0,0)}{h}) = \\frac{1}{h}(\\psi_h(h) - \\psi_h(0))=\\psi_h' = \\frac{1}{k}(\\frac{\\partial f }{\\partial x}(\\xi_1,k)-\\frac{\\partial f}{\\partial x}(\\xi_1,0))= \\frac{\\partial^2}{\\partial y \\partial x}(\\xi_3,\\xi_4)\n",
    "$$\n",
    "Z výše uvedené spojitosti parciálních derivací nám plyne, že máme-li $h,k$ dostatečně malé (což máme, protože jsou to $\\delta$), pak platí současně:\n",
    "$$\n",
    "|\\frac{\\partial^2 f}{\\partial y \\partial x}(\\xi_1,\\xi_2) - \\frac{\\partial^2 f}{\\partial y \\partial x}(0,0)| < \\epsilon, |\\frac{\\partial^2}{\\partial x \\partial y}(\\xi_4,\\xi_3) - \\frac{\\partial f }{\\partial x,\\partial y}(0,0)| < \\epsilon\n",
    "$$\n",
    "Tímto jsme dokázali, že dané druhé derivace musí být ekvivalentní $\\square$\n",
    "## Důkaz\n",
    "Pro $s,t \\in U$ $(*) = f(s,t)-f(s,0) - f(0,t) - f(0,0)$. $(s,t)\\neq (0,0)$. $g(z) = f(s,z)-f(0,z)$ $g'(z)=\\frac{\\partial}{\\partial x_2}(s,z) - \\frac{\\partial f}{\\partial x_2}$ \n",
    "\n"
   ]
  },
  {
   "cell_type": "markdown",
   "id": "644b3b0f-16dd-4889-b5a2-ecb64aa97508",
   "metadata": {},
   "source": [
    "# Lokální extrém (12.6.1)\n",
    "Nechť $f: \\mathbb{R}^N \\to \\mathbb{R}$ je definována na $M \\subset \\mathbb{R}^N$. Řekneme, že $f$ má v bodě $a \\in M$ lokální maximum vzhledem k $M$, jestliže existuje $\\delta >0$ taové, že:\n",
    "$$\n",
    "f(x)\\leq f(a) \\, \\text{na} \\, U_\\delta (a) \\cap M.\n",
    "$$\n",
    "Lokální minimum se definuje analogicky (přehazujeme nerovnost). Ostré lokální maximum a minimum definujeme pomocí ostrých nerovností a prstencových okolí.\n"
   ]
  },
  {
   "cell_type": "markdown",
   "id": "4afd8296-3d73-4ffb-941c-800cafa012b3",
   "metadata": {},
   "source": []
  },
  {
   "cell_type": "markdown",
   "id": "75551677-54f0-4e2c-a6e9-ef33bdd5ef3d",
   "metadata": {},
   "source": []
  },
  {
   "cell_type": "markdown",
   "id": "d801e984-04d4-4960-a6e1-2e6d7b26aa5f",
   "metadata": {},
   "source": []
  },
  {
   "cell_type": "markdown",
   "id": "fb608319-ada6-477f-9e61-aac4972472f5",
   "metadata": {},
   "source": [
    "# "
   ]
  },
  {
   "cell_type": "markdown",
   "id": "8da6eafa-6ebe-4f96-868a-d46ad322a4ba",
   "metadata": {},
   "source": [
    "# "
   ]
  },
  {
   "cell_type": "markdown",
   "id": "2da6ed11-303a-4d39-bfde-f048eadbde12",
   "metadata": {},
   "source": [
    "# "
   ]
  }
 ],
 "metadata": {
  "kernelspec": {
   "display_name": "Python 3 (ipykernel)",
   "language": "python",
   "name": "python3"
  },
  "language_info": {
   "codemirror_mode": {
    "name": "ipython",
    "version": 3
   },
   "file_extension": ".py",
   "mimetype": "text/x-python",
   "name": "python",
   "nbconvert_exporter": "python",
   "pygments_lexer": "ipython3",
   "version": "3.11.4"
  }
 },
 "nbformat": 4,
 "nbformat_minor": 5
}
