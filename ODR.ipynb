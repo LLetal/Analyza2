{
 "cells": [
  {
   "cell_type": "markdown",
   "id": "ae7e8270-6286-41c3-8e77-40d9d9fda7d6",
   "metadata": {},
   "source": [
    "# Diffky"
   ]
  },
  {
   "cell_type": "markdown",
   "id": "03c130a5-035e-4870-a026-97e7722d5c4b",
   "metadata": {},
   "source": [
    "# Definice obyčejné diferenciální rovnice 8.2.1 (Def 1)\n",
    "Nechť $n \\in \\mathbb{N}$ a $f:\\mathbb{R}^{n+2} \\to \\mathbb{R}$. Pak\n",
    "\\begin{equation}\n",
    "f(x,y,y',...y^{n}) = 0,\n",
    "\\end{equation}\n",
    "se nazývá skalární obyčejnou diferenciální rovnicí n-tého řádu."
   ]
  },
  {
   "cell_type": "markdown",
   "id": "c40afb9b-2aae-4725-9291-bef419166960",
   "metadata": {},
   "source": [
    "# Řešení obyčejné diferenciální rovnice 8.2.3  - optional, u Duška je\n",
    "Funkci $y:(a,b) \\to \\mathbb{R}$ nazveme řešením obyčejné diferenciální rovnice, pakliže:\n",
    "\n",
    "- $y$ má na $(a,b)$ vlastní derivace n-tého řádu.\n",
    "- pro všechna $x \\in (a,b)$ platí diferenciální rovnice.\n",
    "\n",
    "Trikově můžeme každou diferenciální rovnici přepsat do tvaru rozřešeného vzhledem k nevyšší derivaci:\n",
    "\n",
    "$$\n",
    "y^{(n)} = g(x,y,y',...,y^{(n-1)})\n",
    "$$\n"
   ]
  },
  {
   "cell_type": "markdown",
   "id": "a56b18f3-3bd8-40c7-91d9-b90bd4112087",
   "metadata": {},
   "source": [
    "# Fundamentální systém (8.5.5)\n",
    "Množina $u_1,\\dots,u_n$ se nazývá fundamentální systém rovnice $Ly = 0$ na $(a,b)$, jestliže funcke $u_1,\\dots,u_n$ řeší $Ly = 0$ na $(a,b)$ a jsou zde lineárně nezávislé."
   ]
  },
  {
   "cell_type": "markdown",
   "id": "4691cf27-fbfa-41a8-a422-44641ddce209",
   "metadata": {
    "tags": []
   },
   "source": [
    "# Cauchyho úloha 8.3.1\n",
    "Cauchyovou úlohou pro rovnici $y' = F(x,y)$ na $(a,b)$, kde $F: \\mathbb{R}^{n+1} \\to \\mathbb{R}^n$, rozumíme hledání vektorové funkce $y: \\mathbb{R} \\to \\mathbb{R}^n$ splňující $y'(x) = F(x,y(x))$ na $(a,b)$ a $y(x_0) = y_0$, kde $x_0 \\in (a,b)$ a $y_0 \\in \\mathbb{R}^n$ jsou zadaná hodnoty, které přirozeně patří do definičního oboru $F$."
   ]
  },
  {
   "cell_type": "markdown",
   "id": "e2103c21-6c6e-45c0-9b65-45d651152c28",
   "metadata": {},
   "source": [
    "# Řešení rovnice se separovanými proměnnými (8.4.6)(8.4.1)\n",
    "Nechť $f: \\mathbb{R} \\to \\mathbb{R}$ je spojitá na $(a,b)\\subset \\mathbb{R}$ a $g:\\mathbb{R}\\to \\mathbb{R}$ je spojitá a nenulová na $(\\alpha,\\beta)\\subset \\mathbb{R}$. Nechť $F$ je primitivní funkce k $f$ na $(a,b)$ a $G$ je primitivní funkce k $y \\mapsto \\frac{1}{g(y)}$ na $(\\alpha,\\beta)$. Pak na intervalu $G((\\alpha,\\beta))$ existuje inverzní funkce $G^{-1}$ a každé maximální řešení $\\omega = (a,b) \\times (\\alpha,\\beta)$ má tvar:\n",
    "\n",
    "$$\n",
    "y(x) = G^{-1}(F(x) + C),\n",
    "$$\n",
    "kde $C \\in \\mathbb{R}$ je definováno na otevřeném intervalu\n",
    "$$\n",
    "I = {x \\in(a,b): \\exists y \\in (\\alpha,\\beta) G(y) = F(x) + C}\n",
    "$$\n",
    "Navíc každým bodem $(x_0,y_0) \\subset \\Omega$ prochází právě jedno maximální řešení v $\\Omega$.\n",
    "\\\\\n",
    "\n",
    "## Důkaz z učebnice\n",
    "\n",
    "### Existence a diferencovatelnost $G^{-1}$\n",
    "Díky předpokladům na $g$ je $\\frac{1}{g}$ spojitá, nenulová a nemění zneménko. Díky tomu existuje ryze monotonní $G$ (primitivní funkce k $\\frac{1}{g}$), G' je nenulová a  nemění znaménko. Podle Věty o derivaci inverzní funkce (verze apro funkci s nenulovou derivací neměnící znaménko, tj. Věta 3.3.22) je $G^{-1}:G((\\alpha,\\beta))\\to (\\alpha,\\beta)$.\n",
    "\n",
    "### $y(x) = G^{-1}(x+C)$ řeší úlohu $y'=g(y)$ na $I_C$\n",
    "Na $I_C$ podle prvního kroku můžeme funkci $x \\rightarrow G^{-1}(x+C)$ derivovat a dostáváme\n",
    "$$\n",
    "y'(x) = \\frac{d}{dx}G^{-1}(x+C) = \\frac{1}{G'(G^{-1}(x+C))} = g(G^{-1}(x+C)) = g(y(x))\n",
    "$$\n",
    "### Maximalita řešení tvaru $y(x)=G^{-1}(x+C)$\n",
    "Odvodíme spor v situaci, kdy $g>0$ na $(\\alpha,\\beta)$ (tedy $G^{-1}$ je rostoucí) a řešení umíme prodloužit doprava mimo interval $I_C$ (v ostatních případech postupujeme analogicky). Pišme $(a,b) = I_C$. Nejprve si povšimněme, že díky monotonii funkce $G^{-1}$ máme:\n",
    "$$\n",
    "\\lim_{x \\to b^- G^{-1}(x+C) = \\sup_{x \\in (a,b)} G^{-1} (x+C) = \\sup (\\alpha,\\beta) = \\beta\n",
    "$$\n",
    "Dále, je-li možné řešení $y$ prodloužit za bod $b$, $y$ je spojité v bodě $b$, a proto $y(b) = \\beta$. Ale $\\beta \\notin (\\alpha,\\beta)$, není tedy v definičním oboru funkce $g$. TO je ve sporu s tím, že by mělo platit $y'(b) = g(y(b))$.\n",
    "\n",
    "### Jednoznačnost\n",
    "Uvažme například situaci, kdy $g >0$ na $(\\alpha,\\beta)$. Nechť $\\eta$ je řešení s definičním oborem $(a,b)$. Pak\n",
    "$$\n",
    "\\eta'(x) = g(\\eta(x))>0 \\, \\text{pro $x \\in (a,b)$}.\n",
    "$$\n",
    "Funkce $\\eta$ proto má diferencovatelnou inverti na $\\eta((a,b))$. Označme ji $\\mu$. Pak pro všechna $y \\in \\eta((a,b))$ platí\n",
    "$$\n",
    "\\mu'(y) = \\frac{1}{\\eta'(\\mu(y))}=\\frac{1}{g(\\eta(\\mu(y)))}=\\frac{1}{g(y)}\n",
    "$$\n",
    "Odtud $\\mu(y)=G(y)-C$ na $\\eta((a,b))$. Pro $x \\in (a,b)$ tedy dostáváme\n",
    "$$\n",
    "\\mu(\\eta(x)) = G(\\eta(x)) -C \\, <=> \\, x+C = G(\\eta(x))\n",
    "$$\n",
    "Následně $x+C$ leží v oboru hodnot funkce $G$, neboli $(a,b) \\subset I_C$ a $\\eta(x) = G^{-1}(x+C).$\n",
    "### Existence řešení pro každou počáteční podmínku\n",
    "Nechť $(x_0,y_0)\\in \\Omega = \\mathbb{R} \\times (\\alpha,\\beta)$. Protože $G^{-1}$ zobrazuje $G((\\alpha,\\beta))$ na $(\\alpha,\\beta)$, existuje $\\psi \\in G((\\alpha,\\beta))$ takové, že $y_0 = G^{-1}(\\psi)$. Stačí proto položit $C = \\psi - x_0$ a pak funkce\n",
    "$$\n",
    "y(x) = G^{-1}(x+C) = G^{-1}(x + \\psi -x_0)\n",
    "$$\n",
    "splňuje $y(x_0) = G^{-1}(\\psi) = y_0$"
   ]
  },
  {
   "cell_type": "markdown",
   "id": "098beb44-71e8-4a89-ad12-3ee3daf40952",
   "metadata": {},
   "source": [
    "# Peanova věta (Věta 4 v Dif. rovnicích) (8.3.4)\n",
    "Mějme $F: \\mathbb{R}^{n+1} \\to \\mathbb{R}^n$ spojitou na otevřené $\\Omega \\subset \\mathbb{R}^{n+1}$ a $(x_0,y_0) \\in \\Omega$. Potom $\\exists \\delta >0$ tak, že na intervalu $(x_0 -\\delta,x_0 + \\delta)$ existuje řešení Cauchyho úlohy $y'=F(x,y)$ s počáteční podmínkou $y_0 = y(x_0 )$."
   ]
  },
  {
   "cell_type": "markdown",
   "id": "10645972-a562-41af-b57f-74b81e712e77",
   "metadata": {},
   "source": [
    "# Picard-Lindelötova věta (Věta 6)(8.3.5)\n",
    "Nechť $F: \\mathbb{R}^{n+1} \\to \\mathbb{R}^n$ je spojitá na otevřené množině $\\Omega \\subset \\mathbb{R}^{n+1}$ a $F$ je na $\\Omega$ lokálně lipschitzovská vzhledem k poslední n-tici proměnných. Pak existuje $\\delta >0$ tak, že na intervalu $(x_0 -\\delta,x_0 +\\delta)$ existuje právě jedno řešení Cauchyovy úlohy pro systém rovnic $y' =F(x,y)$ s počáteční podmínkou $y(x_0)=y_0$\n",
    "# Lokální lipschitzovskost (8.3.7)\n",
    "Lokální lipschitzovskost vzhledem k poslední n-tici proměnných znamená, že pro každé $(x_0,y_0) \\in \\Omega \\, \\exists K>0 \\land \\, \\delta >0$ taková, že:\n",
    "$$\n",
    "|F(x,y_1) - F(x,y_2)|\\leq K|y_1 - \\y_2| \\, \\text{kdykoliv} \\, (x,y_1),(x,y_2) \\in U_\\delta ((x_0,y_0))\n",
    "$$\n"
   ]
  },
  {
   "attachments": {
    "06c71c49-4179-431e-bcd5-33ae326c675d.png": {
     "image/png": "[encoded data removed]"
    }
   },
   "cell_type": "markdown",
   "id": "5085ddfb-d2c7-4992-ad2f-7383b0bb8137",
   "metadata": {},
   "source": [
    "# O slepování řešení (Tvrzení 7)(8.3.11)\n",
    "Nechť $y_1$  řeší ÚLOHU $y'=F(x,y)$ na intervalu $(a,b)$ a $y_2$ řeší tutéž úlohu na $(b,c)$. Pokud navíc platí:\n",
    "$$\n",
    "\\lim_{x \\to b^+}y_1(x) = \\lim_{x\\to b^-}y_2(x) = z \\in \\mathbb{R}^n \\text{Po složkách}\n",
    "$$\n",
    "a současně $F$ je spojitá v $(b,z)$, potom je vektoroová funkce:\n",
    "\n",
    "![image.png](attachment:06c71c49-4179-431e-bcd5-33ae326c675d.png)\n",
    "\n",
    "Řeší rovnici na intervalu $y' = F(x,y)$ na $(a,c)$.\n",
    "Nevím, jak to napsat v texu, zatím orbázek. Upravím.\n",
    "# Důkaz\n",
    "$y'(b)=F(b,z)$. Ze spojitosti $F$ v bodě  $(b,z)$ a předpokladu, že $\\lim_{x \\to b^+}F(x,y_1(x)) = \\lim_{x \\to b^-}F(x,y_2(x)) =F(b,z)$\n",
    "Podle věty o limitě derivací (6.3.9) pak dostáváme, že $y'(b)=F(b,z)$ a je vybaveno. $\\square$"
   ]
  },
  {
   "cell_type": "markdown",
   "id": "b91c063b-4fbd-4d5f-bbdf-ddec1ff5f80a",
   "metadata": {},
   "source": [
    "# Globální existence a jednoznačnost pro rovnici n-tého řádu (Věta 8)(8.5.1)\n",
    "Nechť $f,a_0,a_1,\\dots,a_n \\in C((a,b))$ a $a_n \\neq 0$ na $(a,b)$. Pak pro každé $x_0 \\in (a,b)$ a každé $(y_0,y_1,\\dots,y_{n-1}) \\in \\mathbb{R}^n$ existuje jednoznačné řešení rovnice $Ly = f$ na $(a,b)$ splňující:\n",
    "$$\n",
    "y(x_0) = y_0, y'(x_0)=y_1 \\dots, y^{(n-1)}(x_0) = y_{n-1}\n",
    "$$\n",
    "# Důkaz není :))))"
   ]
  },
  {
   "cell_type": "markdown",
   "id": "69374880-67f9-42c2-9d29-76acafa84000",
   "metadata": {},
   "source": [
    "# Tvar řešení při nuloových datech (8.5.2)- nic, ignorovat\n",
    "Jestliže pravá strana splňuje $f=0$ na $(a,b)$ a pro počáteční podmínky platí $y_0 = \\dots = y_{n-1}=0$, pak řešení úlohy $Ly = f =0$ platí $y=0$ na $(a,b)$.\n"
   ]
  },
  {
   "cell_type": "markdown",
   "id": "18b711a5-a3ea-47fd-b5a7-2ad9de2c5ec3",
   "metadata": {},
   "source": [
    "# O prostoru řešení homogenní rovnice (Věta 9) (8.5.4)\n",
    "Množina všech řešení homogenní rovnice $Ly = 0$ tvoří n-dimenzionální podprostor prostoru $C^{n}((a, b))$.\n",
    "## Důkaz\n",
    "Dokážu LK:\n",
    "$$\n",
    "L(\\alpha y_1 + \\beta y_2) = L\\alpha y_1 + L \\beta y_2 = 0+0 = 0 \\square.\n",
    "$$\n",
    "Druhá část. Máme řešení $u_0$ až $u_n$, u nichž pro všechny platí, že každé má řešení. ($u$ jsou Kanonické vektory). Mají poč. podmínky ve tvaru:\n",
    "$$\n",
    "y_i = (0,0,...1(i),0,...,0)\n",
    "$$\n",
    "(Kroneckerovo delta)\n",
    "Vezmu si nějakou LK dvou vektorů řešení, která je na celém $D_f$ nulová $\\sum_{i=0}^{n-1} u_i \\lambda_i = 0$. V bodě $x_0$ je složka vektoru na místě $i$ nenulová a všude jinde nulová, kroneckerovo delta. Takže nám to předává informaci pouze o $\\lambda_0$, které musí být nutně nulové. Dále postupujeme derivováním, jímž postupně prokážeme, že i všude jinde musí být vektor $\\lambda$ nulový. Dimenze řešení je tedy $\\geq n$. \n",
    "\\\n",
    "Zbytek druhé části. Každé další řešení je tedy jen LK ostatních. Nechť $y$ splňuje $Ly = 0$. Mějme dále $\\omega = y - \\sum_{j=0}^{n-1} \\beta_j u_j$, kde $\\beta \\in \\mathbb{R}^n$. Tedy:\n",
    "$$\n",
    "L \\omega = Ly - \\sum_{j=0}^{n-1} \\lambda_j u_j = Ly - 0 = 0\n",
    "$$\n",
    "Položmě $\\lambda_j = y^{(j)}(x_0)$.\n",
    "$$\n",
    "\\omega^{(j)}(x_0) = y^{(j)}(x_0)- \\sum_{i=0}^{n-1}\\lambda_i u_i^{(j)}(x_0) = \\lambda_j - \\lambda_j = 0\n",
    "$$\n",
    "Odtud plyne, že $\\omega$ je všude nula => $y=\\sum_{j=0}^{n-1} \\lambda_j u_j$. $\\square$"
   ]
  },
  {
   "cell_type": "markdown",
   "id": "3a8294ea-caeb-4664-b9c5-62d985718a52",
   "metadata": {},
   "source": [
    "# Wronskián (8.5.6)\n",
    "Wronského determinant (zkráceně wronskián) funkcí $u_1, \\dots, u_n \\in C^{n-1}((a,b))$ v bodě $x \\in (a,b)$ je:\n",
    "$$\n",
    "W = \\begin{pmatrix}\n",
    "u_1(x) & u_2(x) & \\dots & u_n(x) \\\\\n",
    "u_1(x)' & u_2'(x) & \\dots & u_n'(x)\\\\\n",
    "\\vdots & \\vdots & \\ddots &\\vdots \\\\\n",
    "u_1^{(n-1)}(x) & u_2^{(n-1)}(x) & \\dots & u_n^{(n-1)}\n",
    "\\end{pmatrix}\n",
    "$$"
   ]
  },
  {
   "cell_type": "markdown",
   "id": "d76db516-a2af-44b5-9c0c-fc5369fc5288",
   "metadata": {},
   "source": [
    "# Něco o obecném vztahu LZ a wronskiánu (8.5.7)"
   ]
  },
  {
   "cell_type": "markdown",
   "id": "b95a8ab0-2a86-40b6-a76d-dbe9d2d857e9",
   "metadata": {},
   "source": [
    "# Vztah hodnoty Wronskiánu a lineární nezávislosti množiny řešení hoogenní rovnice (8.5.10)\n",
    "Nechť funkce $u_1,\\dots, u_n$ řeší $Ly = 0$ na $(a,b)$. Pak $u_1,\\dots,u_n$ jsou lineárně nezávislá na $(a,b)$ právě tehdy, když existuje $x_0 \\in (a,b)$ splňující $W_{[u_1,u_2,\\dots u_n]}(x_0)\\neq 0$.\n",
    "\n",
    "## Důkaz\n",
    "Z definice determinantu (jinak ještě z věty 8.5.7) víme, že pokud jsou řádky Wronskiánu LZ, potom je jeho hodnota rovna nule. Stačí nám tedy dokázat, že když je Wronskián pro nějaké $x_0 \\in (a,b)$ roven nule, tak jsou $u_1,\\dots,u_n$ lineárně závislá.\n",
    "\n",
    "Z podmínky na to, aby se Wronskián rovnal nule nám plyne, že v bodě $x_0$ musí mít Wronskián lineárně závislé sloupce, a proto existuje netriviální n-tice $(\\alpha, \\dots, \\alpha_n) \\in \\mathbb{R}^n$ taková, že:\n",
    "$$\n",
    "\\sum_{i=1}^{n} \\alpha_i u_i^{(k)}(x_0) = 0 \\, \\forall k \\in (0,n-1)\n",
    "$$\n",
    "Pokud tedy definujeme $u = \\sum_{i=1}^n \\alpha_i u_i$, tak díky lineáritě $L$ je $u$ řešením úlophy $Ly = 0$ se sadou poč podmínek:\n",
    "$$\n",
    "y(x_0) = 0, y'(x_0)=0, y^{(n-1)}(x_0)=0\n",
    "$$\n",
    "Tuto úlohu zároveň zřejmě řeší i $y=0$. Z globální jednoznačnosti řešení proot dostáváme:\n",
    "$$\n",
    "\\sum_{i=1}^n \\alpha_i u_i = 0 \\, \\text{na} \\, (a,b)\n",
    "$$\n",
    "a je vybaveno."
   ]
  },
  {
   "cell_type": "markdown",
   "id": "971f29cc-211a-4932-80ad-7227bb431809",
   "metadata": {},
   "source": [
    "# Derivace wronskiánu(Věta 11)(8.5.8)\n",
    "Nechť $u_1,\\dots,u_n$ řeší $Ly = 0$ na $(a,b)$. Označme $W(x)=W_{[u_1,u_2,\\dots,u_n]}(x)$. Pak:\n",
    "$$\n",
    "W'(x) = -\\frac{a_{n-1}(x)}{a_n(x)}W(x) \\text{na} (a,b).\n",
    "$$\n",
    "# Důkaz\n",
    "Důkaz provedeme čistě z pravidel derivací a má tvar:\n",
    "$$\n",
    "W'= \\frac{d}{dx}det\\begin{bmatrix}\n",
    "u_1 & \\dots & u_n \\\\\n",
    "u_1' & \\dots & u_n' \\\\\n",
    "\\vdots & \\ddots & \\vdots \\\\\n",
    "u_1^{(n-1)} & \\dots & u_n^{(n-1)} \n",
    "\\end{bmatrix} \n",
    "=\n",
    "det \\begin{bmatrix}\n",
    "u_1' & \\dots & u_n' \\\\\n",
    "u_1' & \\dots & u_n' \\\\\n",
    "\\vdots & \\ddots & \\vdots \\\\\n",
    "u_1^{(n-1)} & \\dots & u_n^{(n-1)} \n",
    "\\end{bmatrix}  \n",
    "+\n",
    "det\\begin{bmatrix}\n",
    "u_1 & \\dots & u_n \\\\\n",
    "u_1'' & \\dots & u_n'' \\\\\n",
    "\\vdots & \\ddots & \\vdots \\\\\n",
    "u_1^{(n-1)} & \\dots & u_n^{(n-1)} \n",
    "\\end{bmatrix} \n",
    "+\n",
    "\\dots\n",
    "+\n",
    "det\\begin{bmatrix}\n",
    "u_1 & \\dots & u_n \\\\\n",
    "u_1' & \\dots & u_n' \\\\\n",
    "\\vdots & \\ddots & \\vdots \\\\\n",
    "-\\frac{1}{a_{n-1}}\\sum_{i=1}^{n-1}a_i u_1^{(i)} &\\dots& -\\frac{1}{a_{n-1}}\\sum_{i=1}^{n-1}a_i u_n^{(i)} \n",
    "\\end{bmatrix}\n",
    "= det\n",
    "\\begin{bmatrix}\n",
    "u_1 & \\dots & u_n \\\\\n",
    "u_1' & \\dots & u_n' \\\\\n",
    "\\vdots & \\ddots & \\vdots \\\\\n",
    "-\\frac{a_{n-1}}{a_n}u_1^{(n-1)} & \\dots & -\\frac{a_{n-1}}{a_n}u_n^{(n-1)} \n",
    "\\end{bmatrix}\n",
    "=\n",
    "-\\frac{a_{n-1}}{a_n}W\n",
    "$$\n",
    "ez ez hotovo\n"
   ]
  },
  {
   "cell_type": "markdown",
   "id": "8feb6cd0-77e8-4687-b1c8-9b43156fd192",
   "metadata": {},
   "source": [
    "# Vícenásobných kořenech charakteristického polynomu (8.5.19)\n",
    "Nechť $\\lambda_j \\in \\mathbb{C}$ je k-násobným kořenem charakteristického polynomu. Pak funkce:\n",
    "$$\n",
    "e^{\\lambda_j x}, xe^{\\lambda_j x}, x^2e^{\\lambda_j x}, \\dots, x^{k-1}e^{\\lambda_j x}\n",
    "$$\n",
    "řeší $Ly = 0$.\n",
    "## Důkaz\n",
    "Pokud $\\lambda_j = 0$ je k-násobným kořenem polynomu $p(\\lambda)$, platí:\n",
    "$$\n",
    "p(\\lambda) = \\sum_{i=k}^n a_i \\lambda^i \\, \\text{a odtud} \\, Ly = \\sum_{i=k}^{n} a_i y^{(i)}\n",
    "$$\n",
    "Proto fce $1,\\dots,x^{k-1}$ řeší $Ly =0$. (polynom $p$ funkce výpisu charakteristického polynomu a $a_i$ jsou nějaké konstantní koeficienty)\n",
    "\n",
    "Pro $\\lambda_j \\neq 0$ pišme $y(x)=z(x)e^{\\lambda_j x}$. Po dosazení máme\n",
    "$$\n",
    "Ly = a_n (ze^{\\lambda_j x})^{(n)} + a_{n-1}(ze^{\\lambda_j x})^{(n-1)} + \\dots + a_1(z'e^{\\lambda_j x}+z \\lambda_j e^{\\lambda_j x})) + a_0 z e^{\\lambda_j x}\n",
    "$$\n",
    "Ze všech členů na pravé straně se dá vytknout $e^{\\lambda_j x}$, a proto dostáváme, že\n",
    "$$\n",
    "Ly = e^{\\lambda_j x}M z,\n",
    "$$\n",
    "kde $M$ je lineární diferenciální operátor s konstantními koeficietny závislými na $a_n,a_{n-1},\\dots,a_0,n,\\lambda_j$. Nechť $q$ je charakteristický polynom operátoru $M$. Pro libovolné $\\mu \\in \\mathbb{C}$\n",
    "$$\n",
    "q(\\mu) = \\frac{M e^{\\mu x}}{e^{\\mu x}} = \\frac{L(e^{\\mu x}e^{\\lambda_j x})}{e^{\\mu x}e^{\\lambda_j x}} = \\frac{Le^{(\\mu +\\lambda_j) x}}{e^{(\\mu +\\lambda_j) x}} = p(\\mu \\lambda_j)\n",
    "$$\n",
    "Odtud, protože $\\lambda_j$ je k-násobným kořenem polynomu $p$,0 je k-násobným kořenem polynomu $q$. Podle počátku důkazu tedy funkce $1,x,\\dots,x^{k-1}$ řeší $Mz =0$, což znamená, že funkce $e^{\\lambda_j x},xe^{\\lambda_j x},\\dots,x^{k-1}e^{\\lambda_j x}$ řeší $Ly = 0$."
   ]
  },
  {
   "attachments": {
    "88d94c04-53f2-428a-a218-f9c5666c1fef.png": {
     "image/png": "[encoded data removed]"
    }
   },
   "cell_type": "markdown",
   "id": "778ab5fb-5b3e-4407-9e76-61039917da97",
   "metadata": {},
   "source": [
    "![image.png](attachment:88d94c04-53f2-428a-a218-f9c5666c1fef.png)"
   ]
  },
  {
   "cell_type": "markdown",
   "id": "f71e536c-9bcd-4ac4-a5e8-07dca4dda4bd",
   "metadata": {},
   "source": [
    "# O vícenásobných kořenech charakteristického polynomu (8.5.19)\n",
    "Nechť $\\lambda_j \\in \\mathbb{C}$ je k-násobným kořenem charakteristického polynomu. Pak fce:\n",
    "$$\n",
    "e^{\\lambda_j x}, x e^{\\lambda_j x}, x^2 e^{\\lambda_j x},\\dots , x^{k-1}e^{\\lambda_j x}\n",
    "$$\n",
    "řeší $Ly = 0$\n",
    "## Důkaz\n",
    "Pakliže $\\lambda_j =0$ je k-násobným kořenem polynomu $p(\\lambda)$, platí:\n",
    "$$\n",
    "p(\\lambda) = \\sum_{i=k}^n a_i \\lambda^i \\, \\text{a odtud} \\, Ly = \\sum_{i=k}^n a_i y^{(i)}\n",
    "$$\n",
    "Proto funkce $1,x,\\dots, x^{k-1}$ řeší $Ly = 0$. \n",
    "\n",
    "Pro $\\lambda_j \\neq 0$ pišme $y(x) = z(x)e^{\\lambda_j x}$. Po dosazení máme:\n",
    "$$\n",
    "Ly = a_n (ze^{\\lambda_j x})^n + a_{n-1}(z e^{\\lambda_j x})^{(n-1)} + \\dots + a_1(z' e^{\\lambda_j x} + z\\lambda_j e^{\\lambda_j x}) + a_0 z e^{\\lambda_j x}\n",
    "$$\n",
    "Ze všech členů můžeme dále vytknout $e^{\\lambda_j x}$, čímž dostáváme:\n",
    "$$\n",
    "Ly = e^{\\lambda_j x} M z\n",
    "$$\n",
    ", kde $M$ je lineární difrenciální operátor s konstantními koeficienty závislými na $a_n,a_{n-1},\\dots,a_0,n,\\lambda_j$. Nechť $q$ je charakteristický polynopm operátoru $M$. Pro libovolné $\\mu \\in \\mathbb{C}$ pak máme:\n",
    "$$\n",
    "q(\\mu) = \\frac{M e^{\\mu x}}{e^{\\mu x}} = \\frac{L(e^{\\mu x} e^{\\lambda_J x})}{e^{\\mu x}e^{\\lambda_j x}} = \\frac{L e^{(\\mu + \\lambda_j)x}}{e^{(\\mu+\\lambda_j) x}} = p(\\mu + \\lambda_j)\n",
    "$$\n",
    "Odtud, protože $\\lambda_j$ je k-násobnám kořenem polynomu $p$, 0 je k-násobným kořenem polynomu $q$. Podle počátku důkazu tedy fce $1,x,\\dots,x^{k-1}$ řeší $Mz = 0$, což znamená, že funkce $e^{\\lambda_j x},xe^{\\lambda_j x},\\dots,x^{k-1}e^{\\lambda_j x}$ řeší $Ly = 0$."
   ]
  },
  {
   "cell_type": "markdown",
   "id": "8da6eafa-6ebe-4f96-868a-d46ad322a4ba",
   "metadata": {},
   "source": [
    " "
   ]
  },
  {
   "cell_type": "markdown",
   "id": "2da6ed11-303a-4d39-bfde-f048eadbde12",
   "metadata": {},
   "source": [
    "# "
   ]
  }
 ],
 "metadata": {
  "kernelspec": {
   "display_name": "Python 3 (ipykernel)",
   "language": "python",
   "name": "python3"
  },
  "language_info": {
   "codemirror_mode": {
    "name": "ipython",
    "version": 3
   },
   "file_extension": ".py",
   "mimetype": "text/x-python",
   "name": "python",
   "nbconvert_exporter": "python",
   "pygments_lexer": "ipython3",
   "version": "3.11.5"
  }
 },
 "nbformat": 4,
 "nbformat_minor": 5
}
